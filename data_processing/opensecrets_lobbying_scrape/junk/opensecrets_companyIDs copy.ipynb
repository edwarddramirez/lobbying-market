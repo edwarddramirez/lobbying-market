{
 "cells": [
  {
   "cell_type": "code",
   "execution_count": 1,
   "metadata": {},
   "outputs": [
    {
     "name": "stderr",
     "output_type": "stream",
     "text": [
      "/home/edr/mambaforge/envs/cbase/lib/python3.9/site-packages/pandas/core/computation/expressions.py:21: UserWarning: Pandas requires version '2.8.4' or newer of 'numexpr' (version '2.7.3' currently installed).\n",
      "  from pandas.core.computation.check import NUMEXPR_INSTALLED\n",
      "/home/edr/mambaforge/envs/cbase/lib/python3.9/site-packages/pandas/core/arrays/masked.py:60: UserWarning: Pandas requires version '1.3.6' or newer of 'bottleneck' (version '1.3.2' currently installed).\n",
      "  from pandas.core import (\n"
     ]
    }
   ],
   "source": [
    "from crpapi import CRP\n",
    "from ed.API_keys import get_opensecrets_key\n",
    "import pandas as pd \n",
    "import numpy as np\n",
    "from tqdm import tqdm\n",
    "tqdm.pandas() # for progress_apply"
   ]
  },
  {
   "cell_type": "code",
   "execution_count": 2,
   "metadata": {},
   "outputs": [],
   "source": [
    "df = pd.read_pickle('assets/processed_companyData.pkl') #to load 123.pkl back to the dataframe df"
   ]
  },
  {
   "cell_type": "code",
   "execution_count": 3,
   "metadata": {},
   "outputs": [],
   "source": [
    "names = df['title'].values"
   ]
  },
  {
   "cell_type": "code",
   "execution_count": 4,
   "metadata": {},
   "outputs": [
    {
     "name": "stdout",
     "output_type": "stream",
     "text": [
      "['BASE_URI', '__class__', '__delattr__', '__dict__', '__dir__', '__doc__', '__eq__', '__format__', '__ge__', '__getattribute__', '__gt__', '__hash__', '__init__', '__init_subclass__', '__le__', '__lt__', '__module__', '__ne__', '__new__', '__reduce__', '__reduce_ex__', '__repr__', '__setattr__', '__sizeof__', '__str__', '__subclasshook__', '__weakref__', 'apikey', 'candidates', 'committees', 'fetch', 'http', 'indexp', 'orgs']\n"
     ]
    }
   ],
   "source": [
    "crp=CRP(get_opensecrets_key()) #makes a CRP object\n",
    "\n",
    "object_methods = [method_name for method_name in dir(crp) if callable(getattr(crp, method_name))]\n",
    "print(dir(crp))"
   ]
  },
  {
   "cell_type": "code",
   "execution_count": 5,
   "metadata": {},
   "outputs": [],
   "source": [
    "# # remove commas from names\n",
    "# names = [name.replace(',', '') for name in names]\n",
    "# # remove periods\n",
    "# names = [name.replace('.', '') for name in names]"
   ]
  },
  {
   "cell_type": "code",
   "execution_count": 6,
   "metadata": {},
   "outputs": [
    {
     "data": {
      "text/plain": [
       "{'@attributes': {'orgid': 'D000023765', 'orgname': 'Advanced Micro Devices'}}"
      ]
     },
     "execution_count": 6,
     "metadata": {},
     "output_type": "execute_result"
    }
   ],
   "source": [
    "crp.orgs.get('advanced micro devices')"
   ]
  },
  {
   "cell_type": "code",
   "execution_count": 7,
   "metadata": {},
   "outputs": [
    {
     "data": {
      "text/plain": [
       "list"
      ]
     },
     "execution_count": 7,
     "metadata": {},
     "output_type": "execute_result"
    }
   ],
   "source": [
    "type([{'a' : 2}, {'s': 1}])"
   ]
  },
  {
   "cell_type": "code",
   "execution_count": 14,
   "metadata": {},
   "outputs": [],
   "source": [
    "def get_os_details(name):\n",
    "    def format_name(name):\n",
    "        name = name.lower()\n",
    "        name = name.replace(',', '')\n",
    "        if ' com ' in name:\n",
    "            name = name.replace(' com ', '.com ')\n",
    "            name = name.replace('inc.', '')\n",
    "            name = name.replace('inc', '')\n",
    "        if 'inc.' in name:\n",
    "            name = name.replace('inc.', 'inc')\n",
    "        return name\n",
    "    try:\n",
    "            # name = name.lower()\n",
    "            # name = name.replace(',', '')\n",
    "            # if ' com ' in name:\n",
    "            #     name = name.replace(' com ', '.com ')\n",
    "            #     name = name.replace('inc.', '')\n",
    "            #     name = name.replace('inc', '')\n",
    "            # print(name)\n",
    "            # if 'inc.' in name:\n",
    "            #     name = name.replace('inc.', 'inc')\n",
    "\n",
    "            # orgs = crp.orgs.get(name)\n",
    "            # if type(orgs) == dict:\n",
    "            #     return orgs['@attributes']\n",
    "            # else:\n",
    "\n",
    "        if name == 'Monster Beverage Corp':\n",
    "            orgs = crp.orgs.get('Monster Energy')\n",
    "            return orgs['@attributes']\n",
    "        if name == 'TAKE TWO INTERACTIVE SOFTWARE INC':\n",
    "            orgs = crp.orgs.get('Take-Two Interactive Software')\n",
    "            return orgs['@attributes']\n",
    "        if name == 'Warner Bros. Discovery, Inc.':\n",
    "            orgs = crp.orgs.get('Warner Brothers Discovery')\n",
    "            return orgs['@attributes']\n",
    "        if name == 'HUNT J B TRANSPORT SERVICES INC':\n",
    "            orgs = crp.orgs.get('JB Hunt Transport Services')\n",
    "            return orgs['@attributes']\n",
    "        if name == 'TPG Inc.':\n",
    "            orgs = crp.orgs.get('TPG Capital')\n",
    "            return orgs['@attributes']\n",
    "        if name == 'Warner Music Group Corp.':\n",
    "            orgs = crp.orgs.get('Warner Music Group')\n",
    "            return orgs['@attributes']\n",
    "\n",
    "        if ' ' in name:\n",
    "            name_list = name.split(' ')\n",
    "            for n in range(len(name_list)):\n",
    "                if n == 0:\n",
    "                    name = format_name(name_list[0])\n",
    "                    try:\n",
    "                        orgs = crp.orgs.get(name)\n",
    "                    except:\n",
    "                        continue\n",
    "                else:\n",
    "                    # print(name_list[:(n+1)])\n",
    "                    # orgs = crp.orgs.get(name_list[:(n+1)].join(' '))\n",
    "                    name = ' '.join(name_list[:(n+1)])\n",
    "                    name = format_name(name)\n",
    "                    # print(name)\n",
    "                    orgs = crp.orgs.get(name)\n",
    "                    \n",
    "                if type(orgs) == dict:\n",
    "                    return orgs['@attributes']\n",
    "                else:\n",
    "                    for n in range(len(orgs)):\n",
    "                        org = orgs[n]\n",
    "                        if org['@attributes']['orgname'].lower() == name:\n",
    "                            return org['@attributes']\n",
    "\n",
    "        else:\n",
    "            orgs = crp.orgs.get(name)\n",
    "            return orgs['@attributes']\n",
    "\n",
    "    except:\n",
    "        return np.nan"
   ]
  },
  {
   "cell_type": "code",
   "execution_count": 30,
   "metadata": {},
   "outputs": [
    {
     "name": "stdout",
     "output_type": "stream",
     "text": [
      "AMAZON COM INC\n",
      "AMAZON.com INC\n",
      "1 800 FLOWERS COM INC\n",
      "1 800 FLOWERS.com INC\n"
     ]
    }
   ],
   "source": [
    "for name in names:\n",
    "    if ' COM ' in name:\n",
    "        print(name)\n",
    "        print(name.replace(' COM ', '.com '))"
   ]
  },
  {
   "cell_type": "code",
   "execution_count": 31,
   "metadata": {},
   "outputs": [
    {
     "name": "stdout",
     "output_type": "stream",
     "text": [
      "['MICROSOFT CORP' 'Apple Inc.' 'NVIDIA CORP' 'AMAZON COM INC'\n",
      " 'Alphabet Inc.' 'Meta Platforms, Inc.' 'Broadcom Inc.' 'Tesla, Inc.'\n",
      " 'COSTCO WHOLESALE CORP /NEW' 'ADVANCED MICRO DEVICES INC']\n"
     ]
    }
   ],
   "source": [
    "print(names[:10])"
   ]
  },
  {
   "cell_type": "code",
   "execution_count": 32,
   "metadata": {},
   "outputs": [
    {
     "data": {
      "text/plain": [
       "'Plutonian Acquisition Corp.'"
      ]
     },
     "execution_count": 32,
     "metadata": {},
     "output_type": "execute_result"
    }
   ],
   "source": [
    "names[-3]"
   ]
  },
  {
   "cell_type": "code",
   "execution_count": 59,
   "metadata": {},
   "outputs": [
    {
     "name": "stdout",
     "output_type": "stream",
     "text": [
      "[{'@attributes': {'orgid': 'D000069801', 'orgname': 'A-Mark Precious Metals'}}, {'@attributes': {'orgid': 'D000091541', 'orgname': 'Alpert & Alpert Iron & Metal'}}, {'@attributes': {'orgid': 'D000088508', 'orgname': 'Ambler Metals'}}, {'@attributes': {'orgid': 'D000046785', 'orgname': 'Amer Soc Metabolic & Bariatric Surgery'}}, {'@attributes': {'orgid': 'D000043292', 'orgname': 'AMG Advanced Metallurgical Group'}}, {'@attributes': {'orgid': 'D000043944', 'orgname': 'Beaumont Iron & Metals'}}, {'@attributes': {'orgid': 'D000109466', 'orgname': 'Bitnile Metaverse'}}, {'@attributes': {'orgid': 'D000108534', 'orgname': 'Boston Metal'}}, {'@attributes': {'orgid': 'D000032233', 'orgname': 'Calbag Metals'}}, {'@attributes': {'orgid': 'D000081324', 'orgname': 'Camden Iron & Metal'}}, {'@attributes': {'orgid': 'D000100539', 'orgname': 'Central Metals (New Jersey)'}}, {'@attributes': {'orgid': 'D000044362', 'orgname': 'Commercial Metals Co'}}, {'@attributes': {'orgid': 'D000068865', 'orgname': 'Concast Metal Products'}}, {'@attributes': {'orgid': 'D000049768', 'orgname': 'Corrugated Metals'}}, {'@attributes': {'orgid': 'D000060880', 'orgname': 'Custom Metalcraft'}}, {'@attributes': {'orgid': 'D000090020', 'orgname': 'Desktop Metal'}}, {'@attributes': {'orgid': 'D000050141', 'orgname': 'Detroit Tool & Metal Products'}}, {'@attributes': {'orgid': 'D000100589', 'orgname': 'Duluth Metals'}}, {'@attributes': {'orgid': 'D000033353', 'orgname': 'Eaton Metal Products'}}, {'@attributes': {'orgid': 'D000098604', 'orgname': 'European Metal Recycling'}}, {'@attributes': {'orgid': 'D000044829', 'orgname': 'Exotic Metals Forming Co'}}, {'@attributes': {'orgid': 'D000050944', 'orgname': 'Flat Rock Metal'}}, {'@attributes': {'orgid': 'D000090764', 'orgname': 'Gerald Metals'}}, {'@attributes': {'orgid': 'D000083516', 'orgname': 'Global Advanced Metals'}}, {'@attributes': {'orgid': 'D000094900', 'orgname': 'Globe Specialty Metals Inc'}}, {'@attributes': {'orgid': 'D000090544', 'orgname': 'Gold Metal Recyclers'}}, {'@attributes': {'orgid': 'D000092403', 'orgname': 'Harrison Metal'}}, {'@attributes': {'orgid': 'D000095984', 'orgname': 'Industrial Metals Recycling Corp'}}, {'@attributes': {'orgid': 'D000064835', 'orgname': 'International Platinum Group Metals Assn'}}, {'@attributes': {'orgid': 'D000072103', 'orgname': 'International Precious Metals Institute'}}, {'@attributes': {'orgid': 'D000082187', 'orgname': 'Jackson Iron & Metal'}}, {'@attributes': {'orgid': 'D000052505', 'orgname': 'Jamestown Metal Marine Sales'}}, {'@attributes': {'orgid': 'D000026987', 'orgname': 'Kennametal Inc'}}, {'@attributes': {'orgid': 'D000043553', 'orgname': 'King Architectural Metals'}}, {'@attributes': {'orgid': 'D000105027', 'orgname': 'Kymeta Corp'}}, {'@attributes': {'orgid': 'D000062073', 'orgname': 'L Gordon Iron & Metal'}}, {'@attributes': {'orgid': 'D000053036', 'orgname': 'Lewis Scrap Metal'}}, {'@attributes': {'orgid': 'D000083873', 'orgname': 'Liquidmetal Technologies'}}, {'@attributes': {'orgid': 'D000062268', 'orgname': 'Magnolia Metal Corp'}}, {'@attributes': {'orgid': 'D000062355', 'orgname': 'McCorvey Sheet Metal Works'}}, {'@attributes': {'orgid': 'D000033563', 'orgname': 'Meta'}}, {'@attributes': {'orgid': 'D000064407', 'orgname': 'Meta Financial Group'}}, {'@attributes': {'orgid': 'D000053667', 'orgname': 'Meta Housing Corp'}}, {'@attributes': {'orgid': 'D000089380', 'orgname': 'Metabiota'}}, {'@attributes': {'orgid': 'D000103143', 'orgname': 'Metagenics Inc'}}, {'@attributes': {'orgid': 'D000053670', 'orgname': 'Metal Construction Assn'}}, {'@attributes': {'orgid': 'D000092158', 'orgname': 'Metal Oxide Technologies'}}, {'@attributes': {'orgid': 'D000064900', 'orgname': 'Metal Shark LLC'}}, {'@attributes': {'orgid': 'D000098801', 'orgname': 'Metal Technologies Inc'}}, {'@attributes': {'orgid': 'D000099659', 'orgname': 'Metalast International'}}, {'@attributes': {'orgid': 'D000095188', 'orgname': 'Metalcraft of Mayville'}}, {'@attributes': {'orgid': 'D000092380', 'orgname': 'Metallicus Inc'}}, {'@attributes': {'orgid': 'D000027546', 'orgname': 'Metallurg Inc'}}, {'@attributes': {'orgid': 'D000053672', 'orgname': 'Metalmark Capital'}}, {'@attributes': {'orgid': 'D000053673', 'orgname': 'Metals Affordability Initiative Assn'}}, {'@attributes': {'orgid': 'D000091266', 'orgname': 'Metaltek International'}}, {'@attributes': {'orgid': 'D000073215', 'orgname': 'Metamagnetics Inc'}}, {'@attributes': {'orgid': 'D000078181', 'orgname': 'MetaMetrics Inc'}}, {'@attributes': {'orgid': 'D000100023', 'orgname': 'Minerals, Metals & Materials Society'}}, {'@attributes': {'orgid': 'D000064910', 'orgname': 'Modumetal'}}, {'@attributes': {'orgid': 'D000091450', 'orgname': 'Norfolk Iron & Metal'}}, {'@attributes': {'orgid': 'D000054746', 'orgname': 'North American Metal Packaging Alliance'}}, {'@attributes': {'orgid': 'D000101513', 'orgname': 'Northern Metal Recycling'}}, {'@attributes': {'orgid': 'D000086356', 'orgname': 'Ohio Precious Metals'}}, {'@attributes': {'orgid': 'D000108011', 'orgname': 'P&F Metals'}}, {'@attributes': {'orgid': 'D000036493', 'orgname': 'Pan Metal Corp'}}, {'@attributes': {'orgid': 'D000056727', 'orgname': 'Precious Metals Assn of North America'}}, {'@attributes': {'orgid': 'D000028432', 'orgname': 'Precision Metalforming Assn'}}, {'@attributes': {'orgid': 'D000086275', 'orgname': 'Quality Metalcraft'}}, {'@attributes': {'orgid': 'D000071901', 'orgname': 'Rheinmetall Defence'}}, {'@attributes': {'orgid': 'D000078393', 'orgname': 'River Metals Recycling'}}, {'@attributes': {'orgid': 'D000028828', 'orgname': 'RTI International Metals'}}, {'@attributes': {'orgid': 'D000037318', 'orgname': 'Sabin Metal'}}, {'@attributes': {'orgid': 'D000000636', 'orgname': 'Sheet Metal & Air Conditioning Contractors Assn'}}, {'@attributes': {'orgid': 'D000071033', 'orgname': 'Sheet Metal, Air, Rail & Transportation Union'}}, {'@attributes': {'orgid': 'D000030205', 'orgname': 'Superior Metal Products'}}, {'@attributes': {'orgid': 'D000098664', 'orgname': 'The Metals Co'}}, {'@attributes': {'orgid': 'D000073350', 'orgname': 'Thompson Creek Metals'}}, {'@attributes': {'orgid': 'D000079689', 'orgname': 'Trademark Metals Recycling'}}, {'@attributes': {'orgid': 'D000109773', 'orgname': 'Tri-State Metal (Illinois)'}}, {'@attributes': {'orgid': 'D000101072', 'orgname': 'Trilogy Metals'}}, {'@attributes': {'orgid': 'D000057841', 'orgname': 'Tucson Iron & Metal'}}, {'@attributes': {'orgid': 'D000074802', 'orgname': 'Twin Metals'}}, {'@attributes': {'orgid': 'D000065148', 'orgname': 'Ucore Rare Metals'}}, {'@attributes': {'orgid': 'D000083596', 'orgname': 'VRC Metal Systems'}}, {'@attributes': {'orgid': 'D000058483', 'orgname': 'Weber Metals'}}]\n"
     ]
    }
   ],
   "source": [
    "print(crp.orgs.get('meta'))"
   ]
  },
  {
   "cell_type": "code",
   "execution_count": 15,
   "metadata": {},
   "outputs": [
    {
     "name": "stdout",
     "output_type": "stream",
     "text": [
      "Monster Beverage Corp\n",
      "{'orgid': 'D000069530', 'orgname': 'Monster Energy'}\n"
     ]
    }
   ],
   "source": [
    "idx = 52\n",
    "print(names[idx])\n",
    "print(get_os_details(names[idx]))"
   ]
  },
  {
   "cell_type": "code",
   "execution_count": null,
   "metadata": {},
   "outputs": [],
   "source": []
  },
  {
   "cell_type": "code",
   "execution_count": 16,
   "metadata": {},
   "outputs": [
    {
     "name": "stdout",
     "output_type": "stream",
     "text": [
      "48: O REILLY AUTOMOTIVE INC | nan\n",
      "51: Super Micro Computer, Inc. | nan\n",
      "90: Symbotic Inc. | nan\n",
      "100: TAKE TWO INTERACTIVE SOFTWARE INC | nan\n",
      "102: AppLovin Corp | nan\n",
      "111: Celsius Holdings, Inc. | nan\n",
      "115: ERIE INDEMNITY CO | nan\n",
      "117: Warner Bros. Discovery, Inc. | nan\n",
      "120: HUNT J B TRANSPORT SERVICES INC | nan\n",
      "136: TPG Inc. | nan\n",
      "137: Warner Music Group Corp. | nan\n",
      "145: SAIA INC | nan\n",
      "146: MANHATTAN ASSOCIATES INC | nan\n",
      "158: Gen Digital Inc. | nan\n",
      "176: CASEYS GENERAL STORES INC | nan\n",
      "181: Affirm Holdings, Inc. | nan\n",
      "185: F5, INC. | nan\n",
      "192: Wingstop Inc. | nan\n",
      "193: Shockwave Medical, Inc. | nan\n",
      "194: REPLIGEN CORP | nan\n",
      "196: APA Corp | nan\n",
      "198: Maplebear Inc. | nan\n",
      "214: C. H. ROBINSON WORLDWIDE, INC. | nan\n",
      "218: Nextracker Inc. | nan\n",
      "227: PILGRIMS PRIDE CORP | nan\n",
      "232: Paramount Global | nan\n",
      "236: Viking Therapeutics, Inc. | nan\n",
      "243: Vaxcyte, Inc. | nan\n",
      "247: CYTOKINETICS INC | nan\n",
      "251: MACOM Technology Solutions Holdings, Inc. | nan\n",
      "253: Lucid Group, Inc. | nan\n",
      "260: SPS COMMERCE INC | nan\n",
      "261: Viper Energy, Inc. | nan\n",
      "265: FTAI Aviation Ltd. | nan\n",
      "266: Science Applications International Corp | nan\n",
      "274: NOVANTA INC | nan\n",
      "277: QUALYS, INC. | nan\n",
      "282: Reynolds Consumer Products Inc. | nan\n",
      "290: Freshpet, Inc. | nan\n",
      "298: Freshworks Inc. | nan\n",
      "299: Blueprint Medicines Corp | nan\n",
      "301: VARONIS SYSTEMS INC | nan\n",
      "303: Braze, Inc. | nan\n",
      "304: ExlService Holdings, Inc. | nan\n",
      "307: Revolution Medicines, Inc. | nan\n",
      "311: Nuvalent, Inc. | nan\n",
      "313: Mr. Cooper Group Inc. | nan\n",
      "318: PATTERSON UTI ENERGY INC | nan\n",
      "320: Krystal Biotech, Inc. | nan\n",
      "321: Phillips Edison & Company, Inc. | nan\n",
      "322: CLEANSPARK, INC. | nan\n",
      "325: Immunovant, Inc. | nan\n",
      "327: JFrog Ltd | nan\n",
      "329: Five9, Inc. | nan\n",
      "331: IAC Inc. | nan\n",
      "333: CORVEL CORP | nan\n",
      "334: INTER PARFUMS INC | nan\n",
      "341: PLAINS GP HOLDINGS LP | nan\n",
      "342: Concentrix Corp | nan\n",
      "354: POWER INTEGRATIONS INC | nan\n",
      "362: ENCORE WIRE CORP | nan\n",
      "366: HANCOCK WHITNEY CORP | nan\n",
      "370: Axsome Therapeutics, Inc. | nan\n",
      "372: Apogee Therapeutics, Inc. | nan\n",
      "374: Arcellx, Inc. | nan\n",
      "378: SpringWorks Therapeutics, Inc. | nan\n",
      "383: Progyny, Inc. | nan\n",
      "384: CSW INDUSTRIALS, INC. | nan\n",
      "385: IMPINJ INC | nan\n",
      "386: STERLING INFRASTRUCTURE, INC. | nan\n",
      "387: Axonics, Inc. | nan\n",
      "392: ARROWHEAD PHARMACEUTICALS, INC. | nan\n",
      "393: Fortrea Holdings Inc. | nan\n",
      "395: PAYCOR HCM, INC. | nan\n",
      "398: Crinetics Pharmaceuticals, Inc. | nan\n",
      "400: FORMFACTOR INC | nan\n",
      "404: WD 40 CO | nan\n",
      "409: CAVCO INDUSTRIES INC. | nan\n",
      "410: MoonLake Immunotherapeutics | nan\n",
      "412: Azenta, Inc. | nan\n",
      "417: IDEAYA Biosciences, Inc. | nan\n",
      "419: DIODES INC /DEL/ | nan\n",
      "420: INNOSPEC INC. | nan\n",
      "423: ACV Auctions Inc. | nan\n",
      "426: STEVEN MADDEN, LTD. | nan\n",
      "429: NorthWestern Energy Group, Inc. | nan\n",
      "445: MGE ENERGY INC | nan\n",
      "446: ARVINAS, INC. | nan\n",
      "447: Beam Therapeutics Inc. | nan\n",
      "450: J&J SNACK FOODS CORP | nan\n",
      "452: Denali Therapeutics Inc. | nan\n",
      "459: CATHAY GENERAL BANCORP | nan\n",
      "463: LGI Homes, Inc. | nan\n",
      "465: NEWMARK GROUP, INC. | nan\n",
      "467: AvidXchange Holdings, Inc. | nan\n",
      "475: CORCEPT THERAPEUTICS INC | nan\n",
      "476: Intapp, Inc. | nan\n",
      "479: ALPINE IMMUNE SCIENCES, INC. | nan\n",
      "481: Frontdoor, Inc. | nan\n",
      "485: CarGurus, Inc. | nan\n",
      "491: Kymera Therapeutics, Inc. | nan\n",
      "494: TG THERAPEUTICS, INC. | nan\n",
      "498: Atlanta Braves Holdings, Inc. | nan\n",
      "501: Keros Therapeutics, Inc. | nan\n",
      "503: Eastern Bankshares, Inc. | nan\n",
      "504: RHYTHM PHARMACEUTICALS, INC. | nan\n",
      "509: Summit Therapeutics Inc. | nan\n",
      "512: ALKAMI TECHNOLOGY, INC. | nan\n",
      "515: IES Holdings, Inc. | nan\n",
      "520: LifeStance Health Group, Inc. | nan\n",
      "522: Upstart Holdings, Inc. | nan\n",
      "523: H&E Equipment Services, Inc. | nan\n",
      "525: Jamf Holding Corp. | nan\n",
      "526: Vera Therapeutics, Inc. | nan\n",
      "530: INDEPENDENT BANK CORP | nan\n",
      "531: PAPA JOHNS INTERNATIONAL INC | nan\n",
      "535: Dyne Therapeutics, Inc. | nan\n",
      "536: AGILYSYS INC | nan\n",
      "537: SITIME Corp | nan\n",
      "543: SEACOAST BANKING CORP OF FLORIDA | nan\n",
      "547: FOX FACTORY HOLDING CORP | nan\n",
      "548: HighPeak Energy, Inc. | nan\n",
      "549: FIRST FINANCIAL BANCORP /OH/ | nan\n",
      "550: AMBARELLA INC | nan\n",
      "552: Palomar Holdings, Inc. | nan\n",
      "553: Structure Therapeutics Inc. | nan\n",
      "554: Ultra Clean Holdings, Inc. | nan\n",
      "555: Janux Therapeutics, Inc. | nan\n",
      "558: Arhaus, Inc. | nan\n",
      "559: Hillman Solutions Corp. | nan\n",
      "560: Shoals Technologies Group, Inc. | nan\n",
      "561: Neumora Therapeutics, Inc. | nan\n",
      "562: FIRST MERCHANTS CORP | nan\n",
      "564: Sana Biotechnology, Inc. | nan\n",
      "565: TANDEM DIABETES CARE INC | nan\n",
      "568: Bumble Inc. | nan\n",
      "576: ODP Corp | nan\n",
      "578: PROKIDNEY CORP. | nan\n",
      "579: ACM Research, Inc. | nan\n",
      "583: Schrodinger, Inc. | nan\n",
      "587: BRP Group, Inc. | nan\n",
      "588: RxSight, Inc. | nan\n",
      "591: Independent Bank Group, Inc. | nan\n",
      "592: SOUNDHOUND AI, INC. | nan\n",
      "593: Merchants Bancorp | nan\n",
      "597: Triumph Financial, Inc. | nan\n",
      "599: Astrana Health, Inc. | nan\n",
      "602: Udemy, Inc. | nan\n",
      "603: Payoneer Global Inc. | nan\n",
      "605: Columbia Financial, Inc. | nan\n",
      "606: EverCommerce Inc. | nan\n",
      "607: GENTHERM Inc | nan\n",
      "608: PC CONNECTION INC | nan\n",
      "611: Akero Therapeutics, Inc. | nan\n",
      "612: National Vision Holdings, Inc. | nan\n",
      "620: 4D Molecular Therapeutics, Inc. | nan\n",
      "621: Frontier Group Holdings, Inc. | nan\n",
      "622: LAKELAND FINANCIAL CORP | nan\n",
      "623: Inhibrx, Inc. | nan\n",
      "627: TRUSTMARK CORP | nan\n",
      "628: Protagonist Therapeutics, Inc | nan\n",
      "629: Morphic Holding, Inc. | nan\n",
      "633: AMERICAN WOODMARK CORP | nan\n",
      "634: Distribution Solutions Group, Inc. | nan\n",
      "636: Cipher Mining Inc. | nan\n",
      "637: RETAIL OPPORTUNITY INVESTMENTS CORP | nan\n",
      "642: NETSCOUT SYSTEMS INC | nan\n",
      "643: CSG SYSTEMS INTERNATIONAL INC | nan\n",
      "644: CITY HOLDING CO | nan\n",
      "645: AdaptHealth Corp. | nan\n",
      "646: EXP World Holdings, Inc. | nan\n",
      "647: INTEGRAL AD SCIENCE HOLDING CORP. | nan\n",
      "650: Sterling Check Corp. | nan\n",
      "652: MAXLINEAR, INC | nan\n",
      "653: Disc Medicine, Inc. | nan\n",
      "655: Edgewise Therapeutics, Inc. | nan\n",
      "656: XPEL, Inc. | nan\n",
      "658: LEMAITRE VASCULAR INC | nan\n",
      "663: HARMONIC INC | nan\n",
      "667: Skyward Specialty Insurance Group, Inc. | nan\n",
      "670: MAGNITE, INC. | nan\n",
      "671: First Watch Restaurant Group, Inc. | nan\n",
      "674: AvePoint, Inc. | nan\n",
      "676: Northwest Bancshares, Inc. | nan\n",
      "678: Immunome Inc. | nan\n",
      "681: Kiniksa Pharmaceuticals, Ltd. | nan\n",
      "682: Vita Coco Company, Inc. | nan\n",
      "684: SMART Global Holdings, Inc. | nan\n",
      "687: Xencor Inc | nan\n",
      "692: Day One Biopharmaceuticals, Inc. | nan\n",
      "696: HOPE BANCORP INC | nan\n",
      "697: Amplitude, Inc. | nan\n",
      "700: Angi Inc. | nan\n",
      "702: Stock Yards Bancorp, Inc. | nan\n",
      "704: ProFrac Holding Corp. | nan\n",
      "709: BELITE BIO, INC | nan\n",
      "711: Tarsus Pharmaceuticals, Inc. | nan\n",
      "712: PDF SOLUTIONS INC | nan\n",
      "713: Couchbase, Inc. | nan\n",
      "720: ICHOR HOLDINGS, LTD. | nan\n",
      "721: PATHWARD FINANCIAL, INC. | nan\n",
      "722: Corsair Gaming, Inc. | nan\n",
      "723: G III APPAREL GROUP LTD /DE/ | nan\n",
      "724: Deciphera Pharmaceuticals, Inc. | nan\n",
      "726: Scholar Rock Holding Corp | nan\n",
      "729: SANFILIPPO JOHN B & SON INC | nan\n",
      "731: 1ST SOURCE CORP | nan\n",
      "732: Mirum Pharmaceuticals, Inc. | nan\n",
      "733: Liquidia Corp | nan\n",
      "734: SAFETY INSURANCE GROUP INC | nan\n",
      "736: PubMatic, Inc. | nan\n",
      "739: Blue Bird Corp | nan\n",
      "740: TRICO BANCSHARES / | nan\n",
      "746: OLAPLEX HOLDINGS, INC. | nan\n",
      "750: DIGI INTERNATIONAL INC | nan\n",
      "751: Target Hospitality Corp. | nan\n",
      "752: Verve Therapeutics, Inc. | nan\n",
      "753: Service Properties Trust | nan\n",
      "754: Viridian Therapeutics, Inc.\\DE | nan\n",
      "758: 89bio, Inc. | nan\n",
      "762: Arcutis Biotherapeutics, Inc. | nan\n",
      "766: indie Semiconductor, Inc. | nan\n",
      "768: Repay Holdings Corp | nan\n",
      "771: Cricut, Inc. | nan\n",
      "772: Relay Therapeutics, Inc. | nan\n",
      "775: PEOPLES BANCORP INC | nan\n",
      "776: Screaming Eagle Acquisition Corp. | nan\n",
      "778: PureCycle Technologies, Inc. | nan\n",
      "781: CRA INTERNATIONAL, INC. | nan\n",
      "785: Zentalis Pharmaceuticals, Inc. | nan\n",
      "791: MidCap Financial Investment Corp | nan\n",
      "794: CARGO Therapeutics, Inc. | nan\n",
      "796: NATIONAL RESEARCH CORP | nan\n",
      "797: UNIVERSAL LOGISTICS HOLDINGS, INC. | nan\n",
      "798: GRID DYNAMICS HOLDINGS, INC. | nan\n",
      "799: QUINSTREET, INC | nan\n",
      "800: TechTarget Inc | nan\n",
      "803: Oric Pharmaceuticals, Inc. | nan\n",
      "806: Dianthus Therapeutics, Inc. /DE/ | nan\n",
      "809: MACROGENICS INC | nan\n",
      "810: MIDDLESEX WATER CO | nan\n",
      "812: ARS Pharmaceuticals, Inc. | nan\n",
      "814: Tyra Biosciences, Inc. | nan\n",
      "816: Westrock Coffee Co | nan\n",
      "818: BlackRock TCP Capital Corp. | nan\n",
      "824: SOUTHSIDE BANCSHARES INC | nan\n",
      "825: SHENANDOAH TELECOMMUNICATIONS CO/VA/ | nan\n",
      "826: Cryoport, Inc. | nan\n",
      "829: DXP ENTERPRISES INC | nan\n",
      "830: BROOKLINE BANCORP INC | nan\n",
      "833: BIOLIFE SOLUTIONS INC | nan\n",
      "835: Carlyle Secured Lending, Inc. | nan\n",
      "836: Hut 8 Corp. | nan\n",
      "837: Cytek Biosciences, Inc. | nan\n",
      "838: Mission Produce, Inc. | nan\n",
      "839: Bank First Corp | nan\n",
      "841: Prime Medicine, Inc. | nan\n",
      "843: SLR Investment Corp. | nan\n",
      "844: Cabaletta Bio, Inc. | nan\n",
      "846: BARRETT BUSINESS SERVICES INC | nan\n",
      "847: HilleVax, Inc. | nan\n",
      "850: Astria Therapeutics, Inc. | nan\n",
      "854: LAKELAND BANCORP INC | nan\n",
      "856: TERAWULF INC. | nan\n",
      "858: ATRION CORP | nan\n",
      "860: Waldencast plc | nan\n",
      "862: BJs RESTAURANTS INC | nan\n",
      "864: FIRST BANCSHARES INC /MS/ | nan\n",
      "866: Abacus Life, Inc. | nan\n",
      "867: European Wax Center, Inc. | nan\n",
      "868: BEL FUSE INC /NJ | nan\n",
      "870: Capitol Federal Financial, Inc. | nan\n",
      "872: AST SpaceMobile, Inc. | nan\n",
      "874: FIRST MID BANCSHARES, INC. | nan\n",
      "875: International Money Express, Inc. | nan\n",
      "877: Mind Medicine (MindMed) Inc. | nan\n",
      "878: i3 Verticals, Inc. | nan\n",
      "880: TREACE MEDICAL CONCEPTS, INC. | nan\n",
      "881: Enliven Therapeutics, Inc. | nan\n",
      "882: Aerovate Therapeutics, Inc. | nan\n",
      "883: Open Lending Corp | nan\n",
      "886: 1 800 FLOWERS COM INC | nan\n",
      "887: Zymeworks Inc. | nan\n",
      "888: Allogene Therapeutics, Inc. | nan\n",
      "890: Silk Road Medical Inc | nan\n",
      "891: Cullinan Oncology, Inc. | nan\n",
      "892: Dime Community Bancshares, Inc. /NY/ | nan\n",
      "893: Longboard Pharmaceuticals, Inc. | nan\n",
      "894: Embecta Corp. | nan\n",
      "895: Applied Therapeutics, Inc. | nan\n",
      "897: Luminar Technologies, Inc./DE | nan\n",
      "898: Amalgamated Financial Corp. | nan\n",
      "901: PREMIER FINANCIAL CORP | nan\n",
      "903: Trinity Capital Inc. | nan\n",
      "904: Omega Flex, Inc. | nan\n",
      "907: Y-mAbs Therapeutics, Inc. | nan\n",
      "910: GEN Restaurant Group, Inc. | nan\n",
      "912: Vimeo, Inc. | nan\n",
      "913: ARKO Corp. | nan\n",
      "914: ACELYRIN, Inc. | nan\n",
      "916: Nurix Therapeutics, Inc. | nan\n",
      "917: EAGLE BANCORP INC | nan\n",
      "918: Savara Inc | nan\n",
      "919: HACKETT GROUP, INC. | nan\n",
      "920: Tevogen Bio Holdings Inc. | nan\n",
      "922: CROSSFIRST BANKSHARES, INC. | nan\n",
      "923: Crescent Capital BDC, Inc. | nan\n",
      "926: Mineralys Therapeutics, Inc. | nan\n",
      "927: Snap One Holdings Corp. | nan\n",
      "930: Viant Technology Inc. | nan\n",
      "931: NEW YORK MORTGAGE TRUST INC | nan\n",
      "934: EverQuote, Inc. | nan\n",
      "937: OmniAb, Inc. | nan\n",
      "938: ORTHOPEDIATRICS CORP | nan\n",
      "941: Olema Pharmaceuticals, Inc. | nan\n",
      "942: FTAI Infrastructure Inc. | nan\n",
      "943: TIPTREE INC. | nan\n",
      "946: FIRST COMMUNITY BANKSHARES INC /VA/ | nan\n",
      "947: Cogent Biosciences, Inc. | nan\n",
      "948: MetroCity Bankshares, Inc. | nan\n",
      "949: Bowman Consulting Group Ltd. | nan\n",
      "951: NLIGHT, INC. | nan\n",
      "952: Talkspace, Inc. | nan\n",
      "953: Phathom Pharmaceuticals, Inc. | nan\n",
      "954: OLD SECOND BANCORP INC | nan\n",
      "957: Korro Bio, Inc. | nan\n",
      "958: AlTi Global, Inc. | nan\n",
      "959: Cerence Inc. | nan\n",
      "960: Tourmaline Bio, Inc. | nan\n",
      "961: MITEK SYSTEMS INC | nan\n",
      "964: DIVERSIFIED HEALTHCARE TRUST | nan\n",
      "965: Pennant Group, Inc. | nan\n",
      "968: MERCANTILE BANK CORP | nan\n",
      "970: ALX ONCOLOGY HOLDINGS INC | nan\n",
      "971: FIDUS INVESTMENT Corp | nan\n",
      "972: Montana Technologies Corp. | nan\n",
      "974: NB Bancorp, Inc. | nan\n",
      "975: CHUY'S HOLDINGS, INC. | nan\n",
      "976: UNIVEST FINANCIAL Corp | nan\n",
      "978: ANAPTYSBIO, INC | nan\n",
      "979: B. Riley Financial, Inc. | nan\n",
      "980: C4 Therapeutics, Inc. | nan\n",
      "982: Alector, Inc. | nan\n",
      "985: Karat Packaging Inc. | nan\n",
      "986: Matterport, Inc./DE | nan\n",
      "987: Biomea Fusion, Inc. | nan\n",
      "988: APPLIED OPTOELECTRONICS, INC. | nan\n",
      "990: Absci Corp | nan\n",
      "991: CompoSecure, Inc. | nan\n",
      "992: GLADSTONE COMMERCIAL CORP | nan\n",
      "996: Evolv Technologies Holdings, Inc. | nan\n",
      "999: MESA LABORATORIES INC /CO/ | nan\n"
     ]
    }
   ],
   "source": [
    "c = 0\n",
    "for n in range(0,1000):\n",
    "    details = get_os_details(names[n])\n",
    "    if type(details) != dict:\n",
    "        c += 1\n",
    "        print(str(n) + ': ' + names[n] + ' | ' + str(details))\n",
    "    # else:\n",
    "    #     print(str(n) + ': ' + names[n] + ' | ' + details['orgname'])"
   ]
  },
  {
   "cell_type": "code",
   "execution_count": 13,
   "metadata": {},
   "outputs": [
    {
     "name": "stdout",
     "output_type": "stream",
     "text": [
      "{'@attributes': {'orgid': 'D000021754', 'orgname': 'Apple Inc'}}\n",
      "{'orgid': 'D000021754', 'orgname': 'Apple Inc'}\n"
     ]
    }
   ],
   "source": [
    "print(crp.orgs.get(names[1])) # test\n",
    "print(get_os_details(names[1]))"
   ]
  },
  {
   "cell_type": "code",
   "execution_count": 30,
   "metadata": {},
   "outputs": [
    {
     "name": "stderr",
     "output_type": "stream",
     "text": [
      "  2%|▏         | 55/2982 [02:00<1:57:32,  2.41s/it]"
     ]
    }
   ],
   "source": [
    "df['os_company_details'] = df['title'].progress_apply(get_os_details)"
   ]
  },
  {
   "cell_type": "code",
   "execution_count": 23,
   "metadata": {},
   "outputs": [
    {
     "name": "stdout",
     "output_type": "stream",
     "text": [
      "0   NaN\n",
      "1   NaN\n",
      "2   NaN\n",
      "3   NaN\n",
      "4   NaN\n",
      "Name: os_company_details, dtype: float64\n"
     ]
    }
   ],
   "source": [
    "print(df['os_company_details'].head())"
   ]
  },
  {
   "cell_type": "code",
   "execution_count": null,
   "metadata": {},
   "outputs": [],
   "source": []
  }
 ],
 "metadata": {
  "kernelspec": {
   "display_name": "cbase",
   "language": "python",
   "name": "python3"
  },
  "language_info": {
   "codemirror_mode": {
    "name": "ipython",
    "version": 3
   },
   "file_extension": ".py",
   "mimetype": "text/x-python",
   "name": "python",
   "nbconvert_exporter": "python",
   "pygments_lexer": "ipython3",
   "version": "3.9.18"
  }
 },
 "nbformat": 4,
 "nbformat_minor": 2
}
