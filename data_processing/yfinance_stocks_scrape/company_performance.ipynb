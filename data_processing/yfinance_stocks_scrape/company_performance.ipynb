{
 "cells": [
  {
   "cell_type": "code",
   "execution_count": null,
   "metadata": {},
   "outputs": [],
   "source": [
    "import pandas as pd\n",
    "from datetime import date\n",
    "import yfinance as yf\n",
    "import requests_cache\n",
    "# Enable caching with requests_cache for an hour\n",
    "requests_cache.install_cache('yfinance_cache', expire_after=3600)  "
   ]
  },
  {
   "cell_type": "code",
   "execution_count": null,
   "metadata": {},
   "outputs": [
    {
     "data": {
      "text/plain": [
       "(2768,)"
      ]
     },
     "metadata": {},
     "output_type": "display_data"
    }
   ],
   "source": [
    "# # Tickers of companies we want to study\n",
    "# tickers = \n",
    "# tickers = list(tickers)\n",
    "# # Start date and end date of the data we want to download\n",
    "# START = \n",
    "# END = \n",
    "# # Downloading the data\n",
    "# data = yf.download(tickers, start=START, end=END)"
   ]
  },
  {
   "cell_type": "code",
   "execution_count": null,
   "metadata": {},
   "outputs": [],
   "source": [
    "# data = data.loc[:,['Adj Close']]\n",
    "# data['Tomorrow'] = data['Adj Close'].shift(-1)\n",
    "# data['Return'] = (data['Tomorrow'] - data['Adj Close']) / data['Adj Close']\n",
    "# data['Cumulative Return'] = (1 + data['Return']).cumprod()\n",
    "# data.head()"
   ]
  },
  {
   "cell_type": "code",
   "execution_count": null,
   "metadata": {},
   "outputs": [],
   "source": [
    "# data.to_csv('company_performance.csv')"
   ]
  },
  {
   "cell_type": "code",
   "execution_count": null,
   "metadata": {},
   "outputs": [],
   "source": []
  }
 ],
 "metadata": {
  "language_info": {
   "name": "python"
  }
 },
 "nbformat": 4,
 "nbformat_minor": 2
}
